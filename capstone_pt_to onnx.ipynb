{
 "cells": [
  {
   "cell_type": "markdown",
   "metadata": {
    "id": "ey-jOuZRY7sb"
   },
   "source": [
    "## 데이터 > calib_set.npy"
   ]
  },
  {
   "cell_type": "code",
   "execution_count": 1,
   "metadata": {
    "colab": {
     "base_uri": "https://localhost:8080/"
    },
    "executionInfo": {
     "elapsed": 5372,
     "status": "ok",
     "timestamp": 1732503662711,
     "user": {
      "displayName": "현은빈",
      "userId": "01625401167422082958"
     },
     "user_tz": -540
    },
    "id": "WC_VkZtY3tw5",
    "outputId": "b445b488-2e86-4e2e-f0a6-a5137535a115"
   },
   "outputs": [
    {
     "name": "stdout",
     "output_type": "stream",
     "text": [
      "Collecting roboflow\n",
      "  Downloading roboflow-1.1.49-py3-none-any.whl.metadata (9.7 kB)\n",
      "Requirement already satisfied: certifi in /usr/local/lib/python3.10/dist-packages (from roboflow) (2024.8.30)\n",
      "Collecting idna==3.7 (from roboflow)\n",
      "  Downloading idna-3.7-py3-none-any.whl.metadata (9.9 kB)\n",
      "Requirement already satisfied: cycler in /usr/local/lib/python3.10/dist-packages (from roboflow) (0.12.1)\n",
      "Requirement already satisfied: kiwisolver>=1.3.1 in /usr/local/lib/python3.10/dist-packages (from roboflow) (1.4.7)\n",
      "Requirement already satisfied: matplotlib in /usr/local/lib/python3.10/dist-packages (from roboflow) (3.8.0)\n",
      "Requirement already satisfied: numpy>=1.18.5 in /usr/local/lib/python3.10/dist-packages (from roboflow) (1.26.4)\n",
      "Requirement already satisfied: opencv-python-headless==4.10.0.84 in /usr/local/lib/python3.10/dist-packages (from roboflow) (4.10.0.84)\n",
      "Requirement already satisfied: Pillow>=7.1.2 in /usr/local/lib/python3.10/dist-packages (from roboflow) (11.0.0)\n",
      "Requirement already satisfied: python-dateutil in /usr/local/lib/python3.10/dist-packages (from roboflow) (2.8.2)\n",
      "Collecting python-dotenv (from roboflow)\n",
      "  Downloading python_dotenv-1.0.1-py3-none-any.whl.metadata (23 kB)\n",
      "Requirement already satisfied: requests in /usr/local/lib/python3.10/dist-packages (from roboflow) (2.32.3)\n",
      "Requirement already satisfied: six in /usr/local/lib/python3.10/dist-packages (from roboflow) (1.16.0)\n",
      "Requirement already satisfied: urllib3>=1.26.6 in /usr/local/lib/python3.10/dist-packages (from roboflow) (2.2.3)\n",
      "Requirement already satisfied: tqdm>=4.41.0 in /usr/local/lib/python3.10/dist-packages (from roboflow) (4.66.6)\n",
      "Requirement already satisfied: PyYAML>=5.3.1 in /usr/local/lib/python3.10/dist-packages (from roboflow) (6.0.2)\n",
      "Requirement already satisfied: requests-toolbelt in /usr/local/lib/python3.10/dist-packages (from roboflow) (1.0.0)\n",
      "Collecting filetype (from roboflow)\n",
      "  Downloading filetype-1.2.0-py2.py3-none-any.whl.metadata (6.5 kB)\n",
      "Requirement already satisfied: contourpy>=1.0.1 in /usr/local/lib/python3.10/dist-packages (from matplotlib->roboflow) (1.3.1)\n",
      "Requirement already satisfied: fonttools>=4.22.0 in /usr/local/lib/python3.10/dist-packages (from matplotlib->roboflow) (4.55.0)\n",
      "Requirement already satisfied: packaging>=20.0 in /usr/local/lib/python3.10/dist-packages (from matplotlib->roboflow) (24.2)\n",
      "Requirement already satisfied: pyparsing>=2.3.1 in /usr/local/lib/python3.10/dist-packages (from matplotlib->roboflow) (3.2.0)\n",
      "Requirement already satisfied: charset-normalizer<4,>=2 in /usr/local/lib/python3.10/dist-packages (from requests->roboflow) (3.4.0)\n",
      "Downloading roboflow-1.1.49-py3-none-any.whl (80 kB)\n",
      "\u001b[2K   \u001b[90m━━━━━━━━━━━━━━━━━━━━━━━━━━━━━━━━━━━━━━━━\u001b[0m \u001b[32m80.9/80.9 kB\u001b[0m \u001b[31m4.3 MB/s\u001b[0m eta \u001b[36m0:00:00\u001b[0m\n",
      "\u001b[?25hDownloading idna-3.7-py3-none-any.whl (66 kB)\n",
      "\u001b[2K   \u001b[90m━━━━━━━━━━━━━━━━━━━━━━━━━━━━━━━━━━━━━━━━\u001b[0m \u001b[32m66.8/66.8 kB\u001b[0m \u001b[31m6.6 MB/s\u001b[0m eta \u001b[36m0:00:00\u001b[0m\n",
      "\u001b[?25hDownloading filetype-1.2.0-py2.py3-none-any.whl (19 kB)\n",
      "Downloading python_dotenv-1.0.1-py3-none-any.whl (19 kB)\n",
      "Installing collected packages: filetype, python-dotenv, idna, roboflow\n",
      "  Attempting uninstall: idna\n",
      "    Found existing installation: idna 3.10\n",
      "    Uninstalling idna-3.10:\n",
      "      Successfully uninstalled idna-3.10\n",
      "Successfully installed filetype-1.2.0 idna-3.7 python-dotenv-1.0.1 roboflow-1.1.49\n"
     ]
    }
   ],
   "source": [
    "!pip install roboflow"
   ]
  },
  {
   "cell_type": "code",
   "execution_count": null,
   "metadata": {
    "colab": {
     "base_uri": "https://localhost:8080/"
    },
    "executionInfo": {
     "elapsed": 9798,
     "status": "ok",
     "timestamp": 1732503672506,
     "user": {
      "displayName": "현은빈",
      "userId": "01625401167422082958"
     },
     "user_tz": -540
    },
    "id": "dYUZq-b73Y8J",
    "outputId": "b7af0a44-f6e9-4a74-a9c6-f0e28f8ab6e3"
   },
   "outputs": [
    {
     "name": "stdout",
     "output_type": "stream",
     "text": [
      "loading Roboflow workspace...\n",
      "loading Roboflow project...\n"
     ]
    },
    {
     "name": "stderr",
     "output_type": "stream",
     "text": [
      "Downloading Dataset Version Zip in candoit-3 to yolov8:: 100%|██████████| 357237/357237 [00:05<00:00, 66438.71it/s]"
     ]
    },
    {
     "name": "stdout",
     "output_type": "stream",
     "text": [
      "\n"
     ]
    },
    {
     "name": "stderr",
     "output_type": "stream",
     "text": [
      "\n",
      "Extracting Dataset Version Zip to candoit-3 in yolov8:: 100%|██████████| 19629/19629 [00:02<00:00, 7403.86it/s]"
     ]
    },
    {
     "name": "stdout",
     "output_type": "stream",
     "text": [
      "Dataset downloaded to: /content/candoit-3\n"
     ]
    },
    {
     "name": "stderr",
     "output_type": "stream",
     "text": [
      "\n"
     ]
    }
   ],
   "source": [
    "import os\n",
    "from roboflow import Roboflow\n",
    "\n",
    "try:\n",
    "    # Roboflow API 설정\n",
    "    rf = Roboflow(api_key=\"write_apikey\")\n",
    "    project = rf.workspace(\"workspace_name\").project(\"candoit\")\n",
    "    version = project.version(3)\n",
    "\n",
    "    # YOLOv8 데이터셋 다운로드\n",
    "    dataset = version.download(\"yolov8\")\n",
    "    print(f\"Dataset downloaded to: {dataset.location}\")\n",
    "except Exception as e:\n",
    "    print(\"An error occurred while downloading the dataset:\")\n",
    "    print(e)"
   ]
  },
  {
   "cell_type": "code",
   "execution_count": 3,
   "metadata": {
    "colab": {
     "base_uri": "https://localhost:8080/"
    },
    "executionInfo": {
     "elapsed": 2351,
     "status": "ok",
     "timestamp": 1732503674856,
     "user": {
      "displayName": "현은빈",
      "userId": "01625401167422082958"
     },
     "user_tz": -540
    },
    "id": "qXA7361g3Y_o",
    "outputId": "8112315f-e720-408f-c903-dce12f96f122"
   },
   "outputs": [
    {
     "name": "stdout",
     "output_type": "stream",
     "text": [
      "Calibration dataset saved to calib_set.npy with shape: (100, 640, 640, 3)\n"
     ]
    }
   ],
   "source": [
    "import os\n",
    "import numpy as np\n",
    "from PIL import Image\n",
    "import cv2\n",
    "\n",
    "def preprocess_image(image, target_size=(640, 640)):\n",
    "    # 이미지 크기 조정\n",
    "    resized_image = cv2.resize(image, target_size)\n",
    "    # 정규화 (0-255 범위를 0-1로 변환)\n",
    "    normalized_image = resized_image / 255.0\n",
    "    return normalized_image\n",
    "\n",
    "# 이미지가 있는 디렉토리 경로\n",
    "image_dir = \"./candoit-3/train/images\"\n",
    "\n",
    "# 캘리브레이션 데이터셋을 위한 이미지 목록\n",
    "image_files = [f for f in os.listdir(image_dir) if f.endswith(('.jpg', '.jpeg', '.png'))]\n",
    "\n",
    "# 캘리브레이션 데이터셋 생성\n",
    "calib_dataset = []\n",
    "\n",
    "for image_file in image_files[:100]:  # 처음 100개 이미지만 사용\n",
    "    image_path = os.path.join(image_dir, image_file)\n",
    "    image = cv2.imread(image_path)\n",
    "    if image is not None:\n",
    "        preprocessed_image = preprocess_image(image)\n",
    "        calib_dataset.append(preprocessed_image)\n",
    "\n",
    "# NumPy 배열로 변환\n",
    "calib_dataset = np.array(calib_dataset)\n",
    "\n",
    "# .npy 파일로 저장\n",
    "np.save('calib_set.npy', calib_dataset)\n",
    "\n",
    "print(f\"Calibration dataset saved to calib_set.npy with shape: {calib_dataset.shape}\")"
   ]
  },
  {
   "cell_type": "markdown",
   "metadata": {
    "id": "osIME-RLZL1y"
   },
   "source": [
    "## pt파일 업로드 > onnx 변환"
   ]
  },
  {
   "cell_type": "code",
   "execution_count": 4,
   "metadata": {
    "colab": {
     "base_uri": "https://localhost:8080/"
    },
    "executionInfo": {
     "elapsed": 3881,
     "status": "ok",
     "timestamp": 1732503713063,
     "user": {
      "displayName": "현은빈",
      "userId": "01625401167422082958"
     },
     "user_tz": -540
    },
    "id": "ryR2waxx4Cxw",
    "outputId": "5e110a88-05e1-4a37-d358-2848f0e6dd73"
   },
   "outputs": [
    {
     "name": "stdout",
     "output_type": "stream",
     "text": [
      "Collecting ultralytics\n",
      "  Downloading ultralytics-8.3.36-py3-none-any.whl.metadata (35 kB)\n",
      "Requirement already satisfied: numpy>=1.23.0 in /usr/local/lib/python3.10/dist-packages (from ultralytics) (1.26.4)\n",
      "Requirement already satisfied: matplotlib>=3.3.0 in /usr/local/lib/python3.10/dist-packages (from ultralytics) (3.8.0)\n",
      "Requirement already satisfied: opencv-python>=4.6.0 in /usr/local/lib/python3.10/dist-packages (from ultralytics) (4.10.0.84)\n",
      "Requirement already satisfied: pillow>=7.1.2 in /usr/local/lib/python3.10/dist-packages (from ultralytics) (11.0.0)\n",
      "Requirement already satisfied: pyyaml>=5.3.1 in /usr/local/lib/python3.10/dist-packages (from ultralytics) (6.0.2)\n",
      "Requirement already satisfied: requests>=2.23.0 in /usr/local/lib/python3.10/dist-packages (from ultralytics) (2.32.3)\n",
      "Requirement already satisfied: scipy>=1.4.1 in /usr/local/lib/python3.10/dist-packages (from ultralytics) (1.13.1)\n",
      "Requirement already satisfied: torch>=1.8.0 in /usr/local/lib/python3.10/dist-packages (from ultralytics) (2.5.1+cu121)\n",
      "Requirement already satisfied: torchvision>=0.9.0 in /usr/local/lib/python3.10/dist-packages (from ultralytics) (0.20.1+cu121)\n",
      "Requirement already satisfied: tqdm>=4.64.0 in /usr/local/lib/python3.10/dist-packages (from ultralytics) (4.66.6)\n",
      "Requirement already satisfied: psutil in /usr/local/lib/python3.10/dist-packages (from ultralytics) (5.9.5)\n",
      "Requirement already satisfied: py-cpuinfo in /usr/local/lib/python3.10/dist-packages (from ultralytics) (9.0.0)\n",
      "Requirement already satisfied: pandas>=1.1.4 in /usr/local/lib/python3.10/dist-packages (from ultralytics) (2.2.2)\n",
      "Requirement already satisfied: seaborn>=0.11.0 in /usr/local/lib/python3.10/dist-packages (from ultralytics) (0.13.2)\n",
      "Collecting ultralytics-thop>=2.0.0 (from ultralytics)\n",
      "  Downloading ultralytics_thop-2.0.12-py3-none-any.whl.metadata (9.4 kB)\n",
      "Requirement already satisfied: contourpy>=1.0.1 in /usr/local/lib/python3.10/dist-packages (from matplotlib>=3.3.0->ultralytics) (1.3.1)\n",
      "Requirement already satisfied: cycler>=0.10 in /usr/local/lib/python3.10/dist-packages (from matplotlib>=3.3.0->ultralytics) (0.12.1)\n",
      "Requirement already satisfied: fonttools>=4.22.0 in /usr/local/lib/python3.10/dist-packages (from matplotlib>=3.3.0->ultralytics) (4.55.0)\n",
      "Requirement already satisfied: kiwisolver>=1.0.1 in /usr/local/lib/python3.10/dist-packages (from matplotlib>=3.3.0->ultralytics) (1.4.7)\n",
      "Requirement already satisfied: packaging>=20.0 in /usr/local/lib/python3.10/dist-packages (from matplotlib>=3.3.0->ultralytics) (24.2)\n",
      "Requirement already satisfied: pyparsing>=2.3.1 in /usr/local/lib/python3.10/dist-packages (from matplotlib>=3.3.0->ultralytics) (3.2.0)\n",
      "Requirement already satisfied: python-dateutil>=2.7 in /usr/local/lib/python3.10/dist-packages (from matplotlib>=3.3.0->ultralytics) (2.8.2)\n",
      "Requirement already satisfied: pytz>=2020.1 in /usr/local/lib/python3.10/dist-packages (from pandas>=1.1.4->ultralytics) (2024.2)\n",
      "Requirement already satisfied: tzdata>=2022.7 in /usr/local/lib/python3.10/dist-packages (from pandas>=1.1.4->ultralytics) (2024.2)\n",
      "Requirement already satisfied: charset-normalizer<4,>=2 in /usr/local/lib/python3.10/dist-packages (from requests>=2.23.0->ultralytics) (3.4.0)\n",
      "Requirement already satisfied: idna<4,>=2.5 in /usr/local/lib/python3.10/dist-packages (from requests>=2.23.0->ultralytics) (3.7)\n",
      "Requirement already satisfied: urllib3<3,>=1.21.1 in /usr/local/lib/python3.10/dist-packages (from requests>=2.23.0->ultralytics) (2.2.3)\n",
      "Requirement already satisfied: certifi>=2017.4.17 in /usr/local/lib/python3.10/dist-packages (from requests>=2.23.0->ultralytics) (2024.8.30)\n",
      "Requirement already satisfied: filelock in /usr/local/lib/python3.10/dist-packages (from torch>=1.8.0->ultralytics) (3.16.1)\n",
      "Requirement already satisfied: typing-extensions>=4.8.0 in /usr/local/lib/python3.10/dist-packages (from torch>=1.8.0->ultralytics) (4.12.2)\n",
      "Requirement already satisfied: networkx in /usr/local/lib/python3.10/dist-packages (from torch>=1.8.0->ultralytics) (3.4.2)\n",
      "Requirement already satisfied: jinja2 in /usr/local/lib/python3.10/dist-packages (from torch>=1.8.0->ultralytics) (3.1.4)\n",
      "Requirement already satisfied: fsspec in /usr/local/lib/python3.10/dist-packages (from torch>=1.8.0->ultralytics) (2024.10.0)\n",
      "Requirement already satisfied: sympy==1.13.1 in /usr/local/lib/python3.10/dist-packages (from torch>=1.8.0->ultralytics) (1.13.1)\n",
      "Requirement already satisfied: mpmath<1.4,>=1.1.0 in /usr/local/lib/python3.10/dist-packages (from sympy==1.13.1->torch>=1.8.0->ultralytics) (1.3.0)\n",
      "Requirement already satisfied: six>=1.5 in /usr/local/lib/python3.10/dist-packages (from python-dateutil>=2.7->matplotlib>=3.3.0->ultralytics) (1.16.0)\n",
      "Requirement already satisfied: MarkupSafe>=2.0 in /usr/local/lib/python3.10/dist-packages (from jinja2->torch>=1.8.0->ultralytics) (3.0.2)\n",
      "Downloading ultralytics-8.3.36-py3-none-any.whl (887 kB)\n",
      "\u001b[2K   \u001b[90m━━━━━━━━━━━━━━━━━━━━━━━━━━━━━━━━━━━━━━━━\u001b[0m \u001b[32m887.3/887.3 kB\u001b[0m \u001b[31m17.4 MB/s\u001b[0m eta \u001b[36m0:00:00\u001b[0m\n",
      "\u001b[?25hDownloading ultralytics_thop-2.0.12-py3-none-any.whl (26 kB)\n",
      "Installing collected packages: ultralytics-thop, ultralytics\n",
      "Successfully installed ultralytics-8.3.36 ultralytics-thop-2.0.12\n"
     ]
    }
   ],
   "source": [
    "!pip install ultralytics"
   ]
  },
  {
   "cell_type": "code",
   "execution_count": 5,
   "metadata": {
    "colab": {
     "base_uri": "https://localhost:8080/"
    },
    "executionInfo": {
     "elapsed": 6,
     "status": "ok",
     "timestamp": 1732503713063,
     "user": {
      "displayName": "현은빈",
      "userId": "01625401167422082958"
     },
     "user_tz": -540
    },
    "id": "6EaueEiVL1Gc",
    "outputId": "1c17e989-99f3-4298-e9d1-25d983ab7c62"
   },
   "outputs": [
    {
     "name": "stdout",
     "output_type": "stream",
     "text": [
      "['.config', 'calib_set.npy', 'candoit-3', 'best.pt', 'sample_data']\n"
     ]
    }
   ],
   "source": [
    "import os\n",
    "\n",
    "print(os.listdir('/content'))\n"
   ]
  },
  {
   "cell_type": "code",
   "execution_count": 6,
   "metadata": {
    "colab": {
     "base_uri": "https://localhost:8080/"
    },
    "executionInfo": {
     "elapsed": 17270,
     "status": "ok",
     "timestamp": 1732503730330,
     "user": {
      "displayName": "현은빈",
      "userId": "01625401167422082958"
     },
     "user_tz": -540
    },
    "id": "fbrkg8rP3ZWX",
    "outputId": "d5fe900b-9810-44e1-8a8b-83c8af4d0958"
   },
   "outputs": [
    {
     "name": "stdout",
     "output_type": "stream",
     "text": [
      "Creating new Ultralytics Settings v0.0.6 file ✅ \n",
      "View Ultralytics Settings with 'yolo settings' or at '/root/.config/Ultralytics/settings.json'\n",
      "Update Settings with 'yolo settings key=value', i.e. 'yolo settings runs_dir=path/to/dir'. For help see https://docs.ultralytics.com/quickstart/#ultralytics-settings.\n",
      "Ultralytics 8.3.36 🚀 Python-3.10.12 torch-2.5.1+cu121 CPU (Intel Xeon 2.20GHz)\n",
      "Model summary (fused): 168 layers, 11,126,358 parameters, 0 gradients, 28.4 GFLOPs\n",
      "\n",
      "\u001b[34m\u001b[1mPyTorch:\u001b[0m starting from '/content/best.pt' with input shape (1, 3, 640, 640) BCHW and output shape(s) (1, 6, 8400) (21.5 MB)\n",
      "\u001b[31m\u001b[1mrequirements:\u001b[0m Ultralytics requirements ['onnx>=1.12.0', 'onnxslim', 'onnxruntime'] not found, attempting AutoUpdate...\n",
      "Collecting onnx>=1.12.0\n",
      "  Downloading onnx-1.17.0-cp310-cp310-manylinux_2_17_x86_64.manylinux2014_x86_64.whl.metadata (16 kB)\n",
      "Collecting onnxslim\n",
      "  Downloading onnxslim-0.1.41-py3-none-any.whl.metadata (4.2 kB)\n",
      "Collecting onnxruntime\n",
      "  Downloading onnxruntime-1.20.1-cp310-cp310-manylinux_2_27_x86_64.manylinux_2_28_x86_64.whl.metadata (4.5 kB)\n",
      "Requirement already satisfied: numpy>=1.20 in /usr/local/lib/python3.10/dist-packages (from onnx>=1.12.0) (1.26.4)\n",
      "Requirement already satisfied: protobuf>=3.20.2 in /usr/local/lib/python3.10/dist-packages (from onnx>=1.12.0) (4.25.5)\n",
      "Requirement already satisfied: sympy in /usr/local/lib/python3.10/dist-packages (from onnxslim) (1.13.1)\n",
      "Requirement already satisfied: packaging in /usr/local/lib/python3.10/dist-packages (from onnxslim) (24.2)\n",
      "Collecting coloredlogs (from onnxruntime)\n",
      "  Downloading coloredlogs-15.0.1-py2.py3-none-any.whl.metadata (12 kB)\n",
      "Requirement already satisfied: flatbuffers in /usr/local/lib/python3.10/dist-packages (from onnxruntime) (24.3.25)\n",
      "Collecting humanfriendly>=9.1 (from coloredlogs->onnxruntime)\n",
      "  Downloading humanfriendly-10.0-py2.py3-none-any.whl.metadata (9.2 kB)\n",
      "Requirement already satisfied: mpmath<1.4,>=1.1.0 in /usr/local/lib/python3.10/dist-packages (from sympy->onnxslim) (1.3.0)\n",
      "Downloading onnx-1.17.0-cp310-cp310-manylinux_2_17_x86_64.manylinux2014_x86_64.whl (16.0 MB)\n",
      "   ━━━━━━━━━━━━━━━━━━━━━━━━━━━━━━━━━━━━━━━━ 16.0/16.0 MB 131.6 MB/s eta 0:00:00\n",
      "Downloading onnxslim-0.1.41-py3-none-any.whl (142 kB)\n",
      "   ━━━━━━━━━━━━━━━━━━━━━━━━━━━━━━━━━━━━━━━━ 142.7/142.7 kB 299.8 MB/s eta 0:00:00\n",
      "Downloading onnxruntime-1.20.1-cp310-cp310-manylinux_2_27_x86_64.manylinux_2_28_x86_64.whl (13.3 MB)\n",
      "   ━━━━━━━━━━━━━━━━━━━━━━━━━━━━━━━━━━━━━━━━ 13.3/13.3 MB 75.2 MB/s eta 0:00:00\n",
      "Downloading coloredlogs-15.0.1-py2.py3-none-any.whl (46 kB)\n",
      "   ━━━━━━━━━━━━━━━━━━━━━━━━━━━━━━━━━━━━━━━━ 46.0/46.0 kB 209.1 MB/s eta 0:00:00\n",
      "Downloading humanfriendly-10.0-py2.py3-none-any.whl (86 kB)\n",
      "   ━━━━━━━━━━━━━━━━━━━━━━━━━━━━━━━━━━━━━━━━ 86.8/86.8 kB 246.8 MB/s eta 0:00:00\n",
      "Installing collected packages: onnx, humanfriendly, onnxslim, coloredlogs, onnxruntime\n",
      "Successfully installed coloredlogs-15.0.1 humanfriendly-10.0 onnx-1.17.0 onnxruntime-1.20.1 onnxslim-0.1.41\n",
      "\n",
      "\u001b[31m\u001b[1mrequirements:\u001b[0m AutoUpdate success ✅ 7.0s, installed 3 packages: ['onnx>=1.12.0', 'onnxslim', 'onnxruntime']\n",
      "\u001b[31m\u001b[1mrequirements:\u001b[0m ⚠️ \u001b[1mRestart runtime or rerun command for updates to take effect\u001b[0m\n",
      "\n",
      "\n",
      "\u001b[34m\u001b[1mONNX:\u001b[0m starting export with onnx 1.17.0 opset 11...\n",
      "\u001b[34m\u001b[1mONNX:\u001b[0m slimming with onnxslim 0.1.41...\n",
      "\u001b[34m\u001b[1mONNX:\u001b[0m export success ✅ 9.0s, saved as '/content/best.onnx' (42.7 MB)\n",
      "\n",
      "Export complete (11.0s)\n",
      "Results saved to \u001b[1m/content\u001b[0m\n",
      "Predict:         yolo predict task=detect model=/content/best.onnx imgsz=640  \n",
      "Validate:        yolo val task=detect model=/content/best.onnx imgsz=640 data=/content/candoit-3/data.yaml  \n",
      "Visualize:       https://netron.app\n"
     ]
    }
   ],
   "source": [
    "from ultralytics import YOLO\n",
    "\n",
    "model = YOLO(\"/content/best.pt\")\n",
    "onnx_path = model.export(\n",
    "    format=\"onnx\",\n",
    "    opset=11,\n",
    "    dynamic=False,\n",
    "    simplify=True,\n",
    "    imgsz=640,\n",
    "    half=False\n",
    ")"
   ]
  },
  {
   "cell_type": "code",
   "execution_count": 7,
   "metadata": {
    "colab": {
     "base_uri": "https://localhost:8080/"
    },
    "collapsed": true,
    "executionInfo": {
     "elapsed": 3,
     "status": "ok",
     "timestamp": 1732503730330,
     "user": {
      "displayName": "현은빈",
      "userId": "01625401167422082958"
     },
     "user_tz": -540
    },
    "id": "n49qKyC9gqQw",
    "outputId": "964170b4-a1d4-431f-8cd5-e2282df3c827"
   },
   "outputs": [
    {
     "name": "stdout",
     "output_type": "stream",
     "text": [
      "/model.0/conv/Conv\n",
      "/model.0/act/Sigmoid\n",
      "/model.0/act/Mul\n",
      "/model.1/conv/Conv\n",
      "/model.1/act/Sigmoid\n",
      "/model.1/act/Mul\n",
      "/model.2/cv1/conv/Conv\n",
      "/model.2/cv1/act/Sigmoid\n",
      "/model.2/cv1/act/Mul\n",
      "/model.2/Split\n",
      "/model.2/m.0/cv1/conv/Conv\n",
      "/model.2/m.0/cv1/act/Sigmoid\n",
      "/model.2/m.0/cv1/act/Mul\n",
      "/model.2/m.0/cv2/conv/Conv\n",
      "/model.2/m.0/cv2/act/Sigmoid\n",
      "/model.2/m.0/cv2/act/Mul\n",
      "/model.2/m.0/Add\n",
      "/model.2/Concat\n",
      "/model.2/cv2/conv/Conv\n",
      "/model.2/cv2/act/Sigmoid\n",
      "/model.2/cv2/act/Mul\n",
      "/model.3/conv/Conv\n",
      "/model.3/act/Sigmoid\n",
      "/model.3/act/Mul\n",
      "/model.4/cv1/conv/Conv\n",
      "/model.4/cv1/act/Sigmoid\n",
      "/model.4/cv1/act/Mul\n",
      "/model.4/Split\n",
      "/model.4/m.0/cv1/conv/Conv\n",
      "/model.4/m.0/cv1/act/Sigmoid\n",
      "/model.4/m.0/cv1/act/Mul\n",
      "/model.4/m.0/cv2/conv/Conv\n",
      "/model.4/m.0/cv2/act/Sigmoid\n",
      "/model.4/m.0/cv2/act/Mul\n",
      "/model.4/m.0/Add\n",
      "/model.4/m.1/cv1/conv/Conv\n",
      "/model.4/m.1/cv1/act/Sigmoid\n",
      "/model.4/m.1/cv1/act/Mul\n",
      "/model.4/m.1/cv2/conv/Conv\n",
      "/model.4/m.1/cv2/act/Sigmoid\n",
      "/model.4/m.1/cv2/act/Mul\n",
      "/model.4/m.1/Add\n",
      "/model.4/Concat\n",
      "/model.4/cv2/conv/Conv\n",
      "/model.4/cv2/act/Sigmoid\n",
      "/model.4/cv2/act/Mul\n",
      "/model.5/conv/Conv\n",
      "/model.5/act/Sigmoid\n",
      "/model.5/act/Mul\n",
      "/model.6/cv1/conv/Conv\n",
      "/model.6/cv1/act/Sigmoid\n",
      "/model.6/cv1/act/Mul\n",
      "/model.6/Split\n",
      "/model.6/m.0/cv1/conv/Conv\n",
      "/model.6/m.0/cv1/act/Sigmoid\n",
      "/model.6/m.0/cv1/act/Mul\n",
      "/model.6/m.0/cv2/conv/Conv\n",
      "/model.6/m.0/cv2/act/Sigmoid\n",
      "/model.6/m.0/cv2/act/Mul\n",
      "/model.6/m.0/Add\n",
      "/model.6/m.1/cv1/conv/Conv\n",
      "/model.6/m.1/cv1/act/Sigmoid\n",
      "/model.6/m.1/cv1/act/Mul\n",
      "/model.6/m.1/cv2/conv/Conv\n",
      "/model.6/m.1/cv2/act/Sigmoid\n",
      "/model.6/m.1/cv2/act/Mul\n",
      "/model.6/m.1/Add\n",
      "/model.6/Concat\n",
      "/model.6/cv2/conv/Conv\n",
      "/model.6/cv2/act/Sigmoid\n",
      "/model.6/cv2/act/Mul\n",
      "/model.7/conv/Conv\n",
      "/model.7/act/Sigmoid\n",
      "/model.7/act/Mul\n",
      "/model.8/cv1/conv/Conv\n",
      "/model.8/cv1/act/Sigmoid\n",
      "/model.8/cv1/act/Mul\n",
      "/model.8/Split\n",
      "/model.8/m.0/cv1/conv/Conv\n",
      "/model.8/m.0/cv1/act/Sigmoid\n",
      "/model.8/m.0/cv1/act/Mul\n",
      "/model.8/m.0/cv2/conv/Conv\n",
      "/model.8/m.0/cv2/act/Sigmoid\n",
      "/model.8/m.0/cv2/act/Mul\n",
      "/model.8/m.0/Add\n",
      "/model.8/Concat\n",
      "/model.8/cv2/conv/Conv\n",
      "/model.8/cv2/act/Sigmoid\n",
      "/model.8/cv2/act/Mul\n",
      "/model.9/cv1/conv/Conv\n",
      "/model.9/cv1/act/Sigmoid\n",
      "/model.9/cv1/act/Mul\n",
      "/model.9/m/MaxPool\n",
      "/model.9/m_1/MaxPool\n",
      "/model.9/m_2/MaxPool\n",
      "/model.9/Concat\n",
      "/model.9/cv2/conv/Conv\n",
      "/model.9/cv2/act/Sigmoid\n",
      "/model.9/cv2/act/Mul\n",
      "/model.10/Resize\n",
      "/model.11/Concat\n",
      "/model.12/cv1/conv/Conv\n",
      "/model.12/cv1/act/Sigmoid\n",
      "/model.12/cv1/act/Mul\n",
      "/model.12/Split\n",
      "/model.12/m.0/cv1/conv/Conv\n",
      "/model.12/m.0/cv1/act/Sigmoid\n",
      "/model.12/m.0/cv1/act/Mul\n",
      "/model.12/m.0/cv2/conv/Conv\n",
      "/model.12/m.0/cv2/act/Sigmoid\n",
      "/model.12/m.0/cv2/act/Mul\n",
      "/model.12/Concat\n",
      "/model.12/cv2/conv/Conv\n",
      "/model.12/cv2/act/Sigmoid\n",
      "/model.12/cv2/act/Mul\n",
      "/model.13/Resize\n",
      "/model.14/Concat\n",
      "/model.15/cv1/conv/Conv\n",
      "/model.15/cv1/act/Sigmoid\n",
      "/model.15/cv1/act/Mul\n",
      "/model.15/Split\n",
      "/model.15/m.0/cv1/conv/Conv\n",
      "/model.15/m.0/cv1/act/Sigmoid\n",
      "/model.15/m.0/cv1/act/Mul\n",
      "/model.15/m.0/cv2/conv/Conv\n",
      "/model.15/m.0/cv2/act/Sigmoid\n",
      "/model.15/m.0/cv2/act/Mul\n",
      "/model.15/Concat\n",
      "/model.15/cv2/conv/Conv\n",
      "/model.15/cv2/act/Sigmoid\n",
      "/model.15/cv2/act/Mul\n",
      "/model.16/conv/Conv\n",
      "/model.22/cv2.0/cv2.0.0/conv/Conv\n",
      "/model.22/cv3.0/cv3.0.0/conv/Conv\n",
      "/model.16/act/Sigmoid\n",
      "/model.22/cv2.0/cv2.0.0/act/Sigmoid\n",
      "/model.22/cv3.0/cv3.0.0/act/Sigmoid\n",
      "/model.16/act/Mul\n",
      "/model.22/cv2.0/cv2.0.0/act/Mul\n",
      "/model.22/cv3.0/cv3.0.0/act/Mul\n",
      "/model.17/Concat\n",
      "/model.22/cv2.0/cv2.0.1/conv/Conv\n",
      "/model.22/cv3.0/cv3.0.1/conv/Conv\n",
      "/model.18/cv1/conv/Conv\n",
      "/model.22/cv2.0/cv2.0.1/act/Sigmoid\n",
      "/model.22/cv3.0/cv3.0.1/act/Sigmoid\n",
      "/model.18/cv1/act/Sigmoid\n",
      "/model.22/cv2.0/cv2.0.1/act/Mul\n",
      "/model.22/cv3.0/cv3.0.1/act/Mul\n",
      "/model.18/cv1/act/Mul\n",
      "/model.22/cv2.0/cv2.0.2/Conv\n",
      "/model.22/cv3.0/cv3.0.2/Conv\n",
      "/model.18/Split\n",
      "/model.22/Concat\n",
      "/model.18/m.0/cv1/conv/Conv\n",
      "/model.22/Reshape\n",
      "/model.18/m.0/cv1/act/Sigmoid\n",
      "/model.18/m.0/cv1/act/Mul\n",
      "/model.18/m.0/cv2/conv/Conv\n",
      "/model.18/m.0/cv2/act/Sigmoid\n",
      "/model.18/m.0/cv2/act/Mul\n",
      "/model.18/Concat\n",
      "/model.18/cv2/conv/Conv\n",
      "/model.18/cv2/act/Sigmoid\n",
      "/model.18/cv2/act/Mul\n",
      "/model.19/conv/Conv\n",
      "/model.22/cv2.1/cv2.1.0/conv/Conv\n",
      "/model.22/cv3.1/cv3.1.0/conv/Conv\n",
      "/model.19/act/Sigmoid\n",
      "/model.22/cv2.1/cv2.1.0/act/Sigmoid\n",
      "/model.22/cv3.1/cv3.1.0/act/Sigmoid\n",
      "/model.19/act/Mul\n",
      "/model.22/cv2.1/cv2.1.0/act/Mul\n",
      "/model.22/cv3.1/cv3.1.0/act/Mul\n",
      "/model.20/Concat\n",
      "/model.22/cv2.1/cv2.1.1/conv/Conv\n",
      "/model.22/cv3.1/cv3.1.1/conv/Conv\n",
      "/model.21/cv1/conv/Conv\n",
      "/model.22/cv2.1/cv2.1.1/act/Sigmoid\n",
      "/model.22/cv3.1/cv3.1.1/act/Sigmoid\n",
      "/model.21/cv1/act/Sigmoid\n",
      "/model.22/cv2.1/cv2.1.1/act/Mul\n",
      "/model.22/cv3.1/cv3.1.1/act/Mul\n",
      "/model.21/cv1/act/Mul\n",
      "/model.22/cv2.1/cv2.1.2/Conv\n",
      "/model.22/cv3.1/cv3.1.2/Conv\n",
      "/model.21/Split\n",
      "/model.22/Concat_1\n",
      "/model.21/m.0/cv1/conv/Conv\n",
      "/model.22/Reshape_1\n",
      "/model.21/m.0/cv1/act/Sigmoid\n",
      "/model.21/m.0/cv1/act/Mul\n",
      "/model.21/m.0/cv2/conv/Conv\n",
      "/model.21/m.0/cv2/act/Sigmoid\n",
      "/model.21/m.0/cv2/act/Mul\n",
      "/model.21/Concat\n",
      "/model.21/cv2/conv/Conv\n",
      "/model.21/cv2/act/Sigmoid\n",
      "/model.21/cv2/act/Mul\n",
      "/model.22/cv2.2/cv2.2.0/conv/Conv\n",
      "/model.22/cv3.2/cv3.2.0/conv/Conv\n",
      "/model.22/cv2.2/cv2.2.0/act/Sigmoid\n",
      "/model.22/cv3.2/cv3.2.0/act/Sigmoid\n",
      "/model.22/cv2.2/cv2.2.0/act/Mul\n",
      "/model.22/cv3.2/cv3.2.0/act/Mul\n",
      "/model.22/cv2.2/cv2.2.1/conv/Conv\n",
      "/model.22/cv3.2/cv3.2.1/conv/Conv\n",
      "/model.22/cv2.2/cv2.2.1/act/Sigmoid\n",
      "/model.22/cv3.2/cv3.2.1/act/Sigmoid\n",
      "/model.22/cv2.2/cv2.2.1/act/Mul\n",
      "/model.22/cv3.2/cv3.2.1/act/Mul\n",
      "/model.22/cv2.2/cv2.2.2/Conv\n",
      "/model.22/cv3.2/cv3.2.2/Conv\n",
      "/model.22/Concat_2\n",
      "/model.22/Reshape_2\n",
      "/model.22/Concat_3\n",
      "/model.22/Split\n",
      "/model.22/dfl/Reshape\n",
      "/model.22/Sigmoid\n",
      "/model.22/dfl/Transpose\n",
      "/model.22/dfl/Softmax\n",
      "/model.22/dfl/Transpose_1\n",
      "/model.22/dfl/conv/Conv\n",
      "/model.22/dfl/Reshape_1\n",
      "/model.22/Slice\n",
      "/model.22/Slice_1\n",
      "/model.22/Sub\n",
      "/model.22/Add_1\n",
      "/model.22/Add_2\n",
      "/model.22/Sub_1\n",
      "/model.22/Div_1\n",
      "/model.22/Concat_4\n",
      "/model.22/Mul_2\n",
      "/model.22/Concat_5\n"
     ]
    }
   ],
   "source": [
    "import onnx\n",
    "\n",
    "# ONNX 파일 로드\n",
    "model = onnx.load(\"best.onnx\")\n",
    "\n",
    "# 모델의 모든 노드 이름 출력\n",
    "for node in model.graph.node:\n",
    "    print(node.name)\n"
   ]
  },
  {
   "cell_type": "code",
   "execution_count": 7,
   "metadata": {
    "executionInfo": {
     "elapsed": 3,
     "status": "ok",
     "timestamp": 1732503730331,
     "user": {
      "displayName": "현은빈",
      "userId": "01625401167422082958"
     },
     "user_tz": -540
    },
    "id": "fgoMMNDlcSZr"
   },
   "outputs": [],
   "source": []
  },
  {
   "cell_type": "markdown",
   "metadata": {
    "id": "8ZDrbRzHlKLa"
   },
   "source": [
    "## achor"
   ]
  },
  {
   "cell_type": "code",
   "execution_count": 8,
   "metadata": {
    "colab": {
     "base_uri": "https://localhost:8080/"
    },
    "executionInfo": {
     "elapsed": 3237,
     "status": "ok",
     "timestamp": 1732503734916,
     "user": {
      "displayName": "현은빈",
      "userId": "01625401167422082958"
     },
     "user_tz": -540
    },
    "id": "gDw3yGIpylPi",
    "outputId": "ae294680-bdb9-489f-aedc-45adc2aaca2d"
   },
   "outputs": [
    {
     "name": "stdout",
     "output_type": "stream",
     "text": [
      "Calculated Anchor Boxes (width, height):\n",
      "[[    0.34434     0.33015]\n",
      " [    0.43173     0.41563]\n",
      " [    0.29384     0.28205]\n",
      " [    0.62447     0.59113]\n",
      " [    0.23515     0.22402]\n",
      " [    0.38767      0.3716]\n",
      " [    0.47882     0.46508]\n",
      " [    0.54266     0.52476]\n",
      " [    0.54753     0.45088]]\n"
     ]
    }
   ],
   "source": [
    "import os\n",
    "import numpy as np\n",
    "from sklearn.cluster import KMeans\n",
    "\n",
    "# 라벨 파일 경로 설정\n",
    "label_dir = \"candoit-3/train/labels\"\n",
    "label_files = [f for f in os.listdir(label_dir) if f.endswith('.txt')]\n",
    "\n",
    "# 바운딩 박스 정보 수집\n",
    "bounding_boxes = []\n",
    "\n",
    "for label_file in label_files:\n",
    "    with open(os.path.join(label_dir, label_file), 'r') as file:\n",
    "        for line in file:\n",
    "            _, x_center, y_center, width, height = map(float, line.split())\n",
    "            # 너비와 높이를 리스트에 추가 (이미지 크기에 상관없이 비율로 사용)\n",
    "            bounding_boxes.append([width, height])\n",
    "\n",
    "# NumPy 배열로 변환\n",
    "bounding_boxes = np.array(bounding_boxes)\n",
    "\n",
    "# K-means 클러스터링을 사용하여 anchor box 계산\n",
    "num_anchors = 9  # 원하는 anchor box의 개수 (보통 9개 사용)\n",
    "kmeans = KMeans(n_clusters=num_anchors, random_state=0)\n",
    "kmeans.fit(bounding_boxes)\n",
    "\n",
    "# 클러스터 중심이 anchor box 크기\n",
    "anchors = kmeans.cluster_centers_\n",
    "print(\"Calculated Anchor Boxes (width, height):\")\n",
    "print(anchors)\n"
   ]
  },
  {
   "cell_type": "markdown",
   "metadata": {
    "id": "loJ8A2s50TLy"
   },
   "source": [
    "정규화되지 않길 원하면 *640을 하자!\n",
    "\n",
    "absolute_width = 640 * 0.381 ≈ 244\n",
    "absolute_height = 640 * 0.365 ≈ 234\n"
   ]
  },
  {
   "cell_type": "code",
   "execution_count": null,
   "metadata": {
    "id": "WAvxMkh33ZZD"
   },
   "outputs": [],
   "source": []
  },
  {
   "cell_type": "markdown",
   "metadata": {
    "id": "Mp1Thf1CyxCQ"
   },
   "source": [
    "## 업로드 (npy파일)"
   ]
  }
 ],
 "metadata": {
  "accelerator": "GPU",
  "colab": {
   "authorship_tag": "ABX9TyN/2ITNLL0/8JG0FRfIYuL+",
   "gpuType": "A100",
   "machine_shape": "hm",
   "provenance": [
    {
     "file_id": "1X3t9_c6i7Ppe0HvAwe_BTdzVm4uT9KNo",
     "timestamp": 1731632085906
    }
   ]
  },
  "kernelspec": {
   "display_name": "Python 3",
   "name": "python3"
  },
  "language_info": {
   "name": "python"
  }
 },
 "nbformat": 4,
 "nbformat_minor": 0
}
